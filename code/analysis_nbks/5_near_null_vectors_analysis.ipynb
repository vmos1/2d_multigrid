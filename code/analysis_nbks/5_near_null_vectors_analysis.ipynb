{
 "cells": [
  {
   "cell_type": "markdown",
   "id": "2111be2d-8ded-4620-8c24-b014af2e3f19",
   "metadata": {},
   "source": [
    "# Analyzing scaling with mass \n",
    "October 13, 2021 \n",
    "Venkitesh Ayyar"
   ]
  },
  {
   "cell_type": "code",
   "execution_count": 137,
   "id": "9d182f34-c302-42fc-a09f-afe6c4b0b14a",
   "metadata": {},
   "outputs": [],
   "source": [
    "import numpy as np\n",
    "import matplotlib.pyplot as plt\n",
    "import pandas as pd"
   ]
  },
  {
   "cell_type": "code",
   "execution_count": 138,
   "id": "4f89d8aa-0941-4a32-8984-0ec01aabed92",
   "metadata": {},
   "outputs": [],
   "source": [
    "%matplotlib widget"
   ]
  },
  {
   "cell_type": "code",
   "execution_count": 139,
   "id": "ee5602b3-5c6e-4935-9330-5406d8e523bb",
   "metadata": {},
   "outputs": [],
   "source": [
    "def f_get_site(x,y,L):\n",
    "    return x+y*L\n",
    "\n",
    "def f_get_base(xc,yc,L,quad):\n",
    "    \n",
    "    if quad==1: \n",
    "        xb=block_x*xc; yb=block_y*yc\n",
    "    elif quad==2: \n",
    "        xb=(block_x*xc-1+L)%L; yb=block_y*yc\n",
    "    elif quad==3: \n",
    "        xb=(block_x*xc-1+L)%L; yb=(block_y*yc-1+L)%L\n",
    "    elif quad==4: \n",
    "        xb=block_x*xc; yb=(block_y*yc-1+L)%L        \n",
    "    \n",
    "    return xb,yb\n",
    "\n",
    "def f_conv_complex(strg):\n",
    "    ''' Convert input from a+ib to python complex form'''\n",
    "    arr=[np.float64(k) for k in strg.split('+i')]\n",
    "    return complex(arr[0],arr[1])\n",
    "# f_get_base(2,2,L,quad=4)\n"
   ]
  },
  {
   "cell_type": "code",
   "execution_count": 143,
   "id": "cc53e81d-affb-4483-a9cf-86906e96dfd6",
   "metadata": {},
   "outputs": [],
   "source": [
    "# fname='../3_complex_scalar_adaptivemgrid/1_regular_tl_code/Near-null_L32_blk2_ndof2.txt'\n",
    "fname='../3_complex_scalar_adaptivemgrid/2_nontl_code/Near-null_L4_blk2_ndof1.txt'\n",
    "fname='../3_complex_scalar_adaptivemgrid/2_nontl_code/Near-null_L8_blk2_ndof1.txt'\n",
    "\n",
    "\n",
    "# df=pd.read_csv(fname,delimiter=',',names=cols,index_col=False)\n",
    "a1=np.loadtxt(fname,delimiter='\\n',dtype=str)"
   ]
  },
  {
   "cell_type": "code",
   "execution_count": 144,
   "id": "8e842eb7-c104-45bc-b99f-4f57481a6a94",
   "metadata": {
    "tags": []
   },
   "outputs": [],
   "source": [
    "arr=np.loadtxt(fname,delimiter='\\n',dtype=str)\n",
    "arr1=np.vectorize(f_conv_complex)(arr[:]) # Skip last element (null string) and first (iteration)"
   ]
  },
  {
   "cell_type": "code",
   "execution_count": 145,
   "id": "6d01898a-a833-4cf4-95aa-5db4f9f37651",
   "metadata": {},
   "outputs": [],
   "source": [
    "L=8;levels=1\n",
    "block_x=2; block_y=2"
   ]
  },
  {
   "cell_type": "code",
   "execution_count": 146,
   "id": "bc16fdb2-d99c-49ab-b82a-1e3abd2d1f46",
   "metadata": {},
   "outputs": [
    {
     "name": "stdout",
     "output_type": "stream",
     "text": [
      "[1, 1] [64]\n",
      "64 1 64\n",
      "[64]\n",
      "64\n"
     ]
    }
   ],
   "source": [
    "# Build list of n_dof for each level\n",
    "nc_list=[1 for i in range(levels+1)]\n",
    "nc_list[0]=1\n",
    "\n",
    "# Build list of lattice size\n",
    "L_list=[(L//(block_x**i))**2 for i in range(levels)]\n",
    "\n",
    "print(nc_list,L_list)\n",
    "\n",
    "\n",
    "size_lst=[]\n",
    "for i in range(levels):\n",
    "    print(L_list[i],nc_list[i],L_list[i]*nc_list[i+1]*nc_list[i])\n",
    "    size_lst.append(L_list[i]*nc_list[i+1]*nc_list[i])\n",
    "    \n",
    "print(size_lst)\n",
    "print(sum(size_lst))"
   ]
  },
  {
   "cell_type": "code",
   "execution_count": 147,
   "id": "8ae239a1-c6e7-49da-9e4d-68d27800ecc0",
   "metadata": {},
   "outputs": [],
   "source": [
    "# 32**2 * (2*1) + 16**2 * (2*2) + 8**2 * (2*2) + 4**2 * (2*2) "
   ]
  },
  {
   "cell_type": "code",
   "execution_count": 148,
   "id": "70fb6caa-9196-465a-8b96-56ad696350bb",
   "metadata": {},
   "outputs": [],
   "source": [
    "assert sum(size_lst)==arr1.shape[0], \"Sizes unequal %d %d \"%(sum(size_lst),arr1.shape[0])"
   ]
  },
  {
   "cell_type": "code",
   "execution_count": 149,
   "id": "f90ffef2-4287-442d-bdf6-56a6ac2b059d",
   "metadata": {},
   "outputs": [
    {
     "name": "stdout",
     "output_type": "stream",
     "text": [
      "64 64\n"
     ]
    }
   ],
   "source": [
    "nn_lst=[]\n",
    "start_idx=0\n",
    "for i in size_lst:\n",
    "    nn_lst.append(arr1[start_idx:start_idx+i])\n",
    "    start_idx+=i\n",
    "    print(start_idx,i)"
   ]
  },
  {
   "cell_type": "code",
   "execution_count": 150,
   "id": "1d476e87-3e86-48ad-9fa9-ace7525cc382",
   "metadata": {
    "tags": []
   },
   "outputs": [],
   "source": [
    "# # Check block normalization\n",
    "# for idx in range(1,levels+1):\n",
    "#     Lc=L//(block_x**idx)\n",
    "#     Lf=Lc*block_x\n",
    "#     print(idx,Lf,Lc)\n",
    "\n",
    "#     for xc in range(Lc): \n",
    "#         for yc in range(Lc):\n",
    "#             xb,yb=f_get_base(xc,yc,Lf,quad=1)\n",
    "#             site=[f_get_site(xb+x1,yb+y1,Lf) for x1 in range(block_x) for y1 in range(block_y)]\n",
    "#             # print(site)\n",
    "#             norm=np.linalg.norm(np.abs(nn_lst[idx-1][site]))\n",
    "#             # print(norm)\n",
    "            \n",
    "#             if ~np.isclose(norm,1.0,rtol=1e-20,atol=1e-14): \n",
    "#                 print(\"Not normalized\",norm)\n"
   ]
  },
  {
   "cell_type": "code",
   "execution_count": 151,
   "id": "9815cfa8-405b-4b8d-a988-1a4e739fe5ff",
   "metadata": {
    "tags": []
   },
   "outputs": [],
   "source": [
    "# nn_lst[-1]"
   ]
  },
  {
   "cell_type": "code",
   "execution_count": 155,
   "id": "8ce04be3-73f9-40b2-81ec-902e54af36b4",
   "metadata": {
    "tags": []
   },
   "outputs": [
    {
     "name": "stdout",
     "output_type": "stream",
     "text": [
      "0 8 4\n"
     ]
    }
   ],
   "source": [
    "# Check block normalization\n",
    "for idx in range(0,levels):\n",
    "    Lf=L//(block_x**idx)\n",
    "    Lc=Lf//block_x\n",
    "    print(idx,Lf,Lc)\n",
    "\n",
    "    for xc in range(Lc): \n",
    "        for yc in range(Lc):\n",
    "            xb,yb=f_get_base(xc,yc,Lf,quad=4)\n",
    "            \n",
    "            # print(xb,yb,end='\\t')\n",
    "            # print(xc*block_x,yc*block_y,end='\\t')\n",
    "            # site=[((xb+x1+L)%L,(yb+y1+L)%L) for x1 in range(block_x) for y1 in range(block_y)]\n",
    "            # print(site)\n",
    "            \n",
    "            site=[f_get_site((xb+x1+Lf)%Lf,(yb+y1+Lf)%Lf,Lf) for x1 in range(block_x) for y1 in range(block_y)]\n",
    "\n",
    "            # print(site)\n",
    "            norm=np.linalg.norm(np.abs(nn_lst[idx][site]))\n",
    "# #             # print(norm)\n",
    "            \n",
    "            if ~np.isclose(norm,1.0,rtol=1e-20,atol=1e-14): \n",
    "                print(\"Not normalized\",norm)\n"
   ]
  },
  {
   "cell_type": "code",
   "execution_count": 134,
   "id": "1b21bc25-2529-4cbf-8db3-c5ce380d72d3",
   "metadata": {},
   "outputs": [
    {
     "name": "stdout",
     "output_type": "stream",
     "text": [
      "(64,)\n"
     ]
    }
   ],
   "source": [
    "for i in nn_lst:\n",
    "    print(i.shape)"
   ]
  },
  {
   "cell_type": "code",
   "execution_count": null,
   "id": "29a822cb-f912-46b7-99a9-3d7b9b0bef72",
   "metadata": {},
   "outputs": [],
   "source": []
  },
  {
   "cell_type": "code",
   "execution_count": null,
   "id": "6ab6a296-3ceb-4980-a4fd-1b346473bde5",
   "metadata": {},
   "outputs": [],
   "source": []
  },
  {
   "cell_type": "code",
   "execution_count": null,
   "id": "afbfff70-319e-4685-a9ec-306b76da4b8d",
   "metadata": {},
   "outputs": [],
   "source": []
  },
  {
   "cell_type": "code",
   "execution_count": null,
   "id": "f136c823-7937-41d0-b99b-8f8b5d2edfa9",
   "metadata": {},
   "outputs": [],
   "source": []
  },
  {
   "cell_type": "code",
   "execution_count": null,
   "id": "2a578dbd-d265-4d69-a204-b396c8b98e03",
   "metadata": {},
   "outputs": [],
   "source": []
  }
 ],
 "metadata": {
  "kernelspec": {
   "display_name": "v3",
   "language": "python",
   "name": "vpy39"
  },
  "language_info": {
   "codemirror_mode": {
    "name": "ipython",
    "version": 3
   },
   "file_extension": ".py",
   "mimetype": "text/x-python",
   "name": "python",
   "nbconvert_exporter": "python",
   "pygments_lexer": "ipython3",
   "version": "3.9.7"
  }
 },
 "nbformat": 4,
 "nbformat_minor": 5
}
