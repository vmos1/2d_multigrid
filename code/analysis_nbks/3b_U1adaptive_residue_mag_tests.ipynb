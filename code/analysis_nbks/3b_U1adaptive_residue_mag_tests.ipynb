{
 "cells": [
  {
   "cell_type": "markdown",
   "id": "2111be2d-8ded-4620-8c24-b014af2e3f19",
   "metadata": {},
   "source": [
    "# Analyzing scaling with mass \n",
    "October 13, 2021 \n",
    "Venkitesh Ayyar"
   ]
  },
  {
   "cell_type": "code",
   "execution_count": 13,
   "id": "9d182f34-c302-42fc-a09f-afe6c4b0b14a",
   "metadata": {},
   "outputs": [],
   "source": [
    "import numpy as np\n",
    "import matplotlib.pyplot as plt\n",
    "import pandas as pd"
   ]
  },
  {
   "cell_type": "code",
   "execution_count": 14,
   "id": "4f89d8aa-0941-4a32-8984-0ec01aabed92",
   "metadata": {},
   "outputs": [],
   "source": [
    "%matplotlib widget"
   ]
  },
  {
   "cell_type": "code",
   "execution_count": 25,
   "id": "cc53e81d-affb-4483-a9cf-86906e96dfd6",
   "metadata": {},
   "outputs": [],
   "source": [
    "lvls_lst=[str(i) for i in range(4+1)]\n",
    "cols=['iter']+lvls_lst\n",
    "\n",
    "fname='../3_complex_scalar_adaptivemgrid/1_regular_tl_code/resmag1_unity.txt'\n",
    "df=pd.read_csv(fname,delimiter=',',names=cols,index_col=False)"
   ]
  },
  {
   "cell_type": "code",
   "execution_count": 26,
   "id": "8e842eb7-c104-45bc-b99f-4f57481a6a94",
   "metadata": {
    "tags": []
   },
   "outputs": [
    {
     "data": {
      "text/html": [
       "<div>\n",
       "<style scoped>\n",
       "    .dataframe tbody tr th:only-of-type {\n",
       "        vertical-align: middle;\n",
       "    }\n",
       "\n",
       "    .dataframe tbody tr th {\n",
       "        vertical-align: top;\n",
       "    }\n",
       "\n",
       "    .dataframe thead th {\n",
       "        text-align: right;\n",
       "    }\n",
       "</style>\n",
       "<table border=\"1\" class=\"dataframe\">\n",
       "  <thead>\n",
       "    <tr style=\"text-align: right;\">\n",
       "      <th></th>\n",
       "      <th>iter</th>\n",
       "      <th>0</th>\n",
       "      <th>1</th>\n",
       "      <th>2</th>\n",
       "      <th>3</th>\n",
       "      <th>4</th>\n",
       "    </tr>\n",
       "  </thead>\n",
       "  <tbody>\n",
       "    <tr>\n",
       "      <th>0</th>\n",
       "      <td>0</td>\n",
       "      <td>0.245361</td>\n",
       "      <td>0.380943</td>\n",
       "      <td>0.537945</td>\n",
       "      <td>0.927558</td>\n",
       "      <td>0.0</td>\n",
       "    </tr>\n",
       "    <tr>\n",
       "      <th>1</th>\n",
       "      <td>1</td>\n",
       "      <td>0.040785</td>\n",
       "      <td>0.611599</td>\n",
       "      <td>0.659705</td>\n",
       "      <td>0.933623</td>\n",
       "      <td>0.0</td>\n",
       "    </tr>\n",
       "    <tr>\n",
       "      <th>2</th>\n",
       "      <td>2</td>\n",
       "      <td>0.015837</td>\n",
       "      <td>0.740481</td>\n",
       "      <td>0.701292</td>\n",
       "      <td>0.930522</td>\n",
       "      <td>0.0</td>\n",
       "    </tr>\n",
       "    <tr>\n",
       "      <th>3</th>\n",
       "      <td>3</td>\n",
       "      <td>0.007256</td>\n",
       "      <td>0.801084</td>\n",
       "      <td>0.717920</td>\n",
       "      <td>0.926910</td>\n",
       "      <td>0.0</td>\n",
       "    </tr>\n",
       "    <tr>\n",
       "      <th>4</th>\n",
       "      <td>4</td>\n",
       "      <td>0.003561</td>\n",
       "      <td>0.827667</td>\n",
       "      <td>0.722962</td>\n",
       "      <td>0.922734</td>\n",
       "      <td>0.0</td>\n",
       "    </tr>\n",
       "  </tbody>\n",
       "</table>\n",
       "</div>"
      ],
      "text/plain": [
       "   iter         0         1         2         3    4\n",
       "0     0  0.245361  0.380943  0.537945  0.927558  0.0\n",
       "1     1  0.040785  0.611599  0.659705  0.933623  0.0\n",
       "2     2  0.015837  0.740481  0.701292  0.930522  0.0\n",
       "3     3  0.007256  0.801084  0.717920  0.926910  0.0\n",
       "4     4  0.003561  0.827667  0.722962  0.922734  0.0"
      ]
     },
     "execution_count": 26,
     "metadata": {},
     "output_type": "execute_result"
    }
   ],
   "source": [
    "df.head()"
   ]
  },
  {
   "cell_type": "code",
   "execution_count": 29,
   "id": "1dd97988-d19b-4609-91d3-2090f84d8a63",
   "metadata": {},
   "outputs": [
    {
     "data": {
      "text/html": [
       "<div>\n",
       "<style scoped>\n",
       "    .dataframe tbody tr th:only-of-type {\n",
       "        vertical-align: middle;\n",
       "    }\n",
       "\n",
       "    .dataframe tbody tr th {\n",
       "        vertical-align: top;\n",
       "    }\n",
       "\n",
       "    .dataframe thead th {\n",
       "        text-align: right;\n",
       "    }\n",
       "</style>\n",
       "<table border=\"1\" class=\"dataframe\">\n",
       "  <thead>\n",
       "    <tr style=\"text-align: right;\">\n",
       "      <th></th>\n",
       "      <th>iter</th>\n",
       "      <th>0</th>\n",
       "      <th>1</th>\n",
       "      <th>2</th>\n",
       "      <th>3</th>\n",
       "      <th>4</th>\n",
       "    </tr>\n",
       "  </thead>\n",
       "  <tbody>\n",
       "    <tr>\n",
       "      <th>0</th>\n",
       "      <td>0</td>\n",
       "      <td>0.056505</td>\n",
       "      <td>0.113249</td>\n",
       "      <td>0.290543</td>\n",
       "      <td>0.668833</td>\n",
       "      <td>0.935867</td>\n",
       "    </tr>\n",
       "    <tr>\n",
       "      <th>1</th>\n",
       "      <td>1</td>\n",
       "      <td>0.018345</td>\n",
       "      <td>0.256157</td>\n",
       "      <td>0.370921</td>\n",
       "      <td>0.667391</td>\n",
       "      <td>0.928264</td>\n",
       "    </tr>\n",
       "    <tr>\n",
       "      <th>2</th>\n",
       "      <td>2</td>\n",
       "      <td>0.007979</td>\n",
       "      <td>0.328771</td>\n",
       "      <td>0.393996</td>\n",
       "      <td>0.665007</td>\n",
       "      <td>0.927935</td>\n",
       "    </tr>\n",
       "    <tr>\n",
       "      <th>3</th>\n",
       "      <td>3</td>\n",
       "      <td>0.003834</td>\n",
       "      <td>0.364603</td>\n",
       "      <td>0.402697</td>\n",
       "      <td>0.662234</td>\n",
       "      <td>0.927586</td>\n",
       "    </tr>\n",
       "    <tr>\n",
       "      <th>4</th>\n",
       "      <td>4</td>\n",
       "      <td>0.001922</td>\n",
       "      <td>0.380673</td>\n",
       "      <td>0.404619</td>\n",
       "      <td>0.659033</td>\n",
       "      <td>0.927215</td>\n",
       "    </tr>\n",
       "  </tbody>\n",
       "</table>\n",
       "</div>"
      ],
      "text/plain": [
       "   iter         0         1         2         3         4\n",
       "0     0  0.056505  0.113249  0.290543  0.668833  0.935867\n",
       "1     1  0.018345  0.256157  0.370921  0.667391  0.928264\n",
       "2     2  0.007979  0.328771  0.393996  0.665007  0.927935\n",
       "3     3  0.003834  0.364603  0.402697  0.662234  0.927586\n",
       "4     4  0.001922  0.380673  0.404619  0.659033  0.927215"
      ]
     },
     "execution_count": 29,
     "metadata": {},
     "output_type": "execute_result"
    }
   ],
   "source": [
    "df.head()"
   ]
  },
  {
   "cell_type": "code",
   "execution_count": 5,
   "id": "9cfa8a6e-9767-423e-b971-6c498350a6f1",
   "metadata": {
    "jupyter": {
     "source_hidden": true
    },
    "tags": []
   },
   "outputs": [],
   "source": [
    "# # Load dat\n",
    "# df1=pd.DataFrame([])\n",
    "# lst=['tl_0lvl','tl_1lvl','tl_2lvl','tl_3lvl','tl_4lvl']\n",
    "\n",
    "# # fname='../3_complex_scalar_nontelescoping/results_3_scaling_results_gaussian_centered0/ndof_2/scaling_32_width0.01.txt'\n",
    "# fname='../3_complex_scalar_nontelescoping/results_4_scaling_results_heatbath/scaling_32_hb16.txt'\n",
    "\n",
    "# # a1=np.loadtxt(fname,delimiter='\\t')\n",
    "# cols=['L','n_per_level','m','blk_x','blk_y','ndof','levels','conv_iters']\n",
    "# df=pd.read_csv(fname,delimiter='\\t',names=cols)\n",
    "# df=df.sort_values(by=['levels','n_per_level','L','m']).reset_index(drop=True)\n",
    "# # df['run_type']='lvl_'+df['levels'].astype(str)+'_blk_'+df['blk_x'].astype(str)\n",
    "# df1=df.copy()\n",
    "# df1"
   ]
  },
  {
   "cell_type": "code",
   "execution_count": 34,
   "id": "a9f89969-05c9-4fd4-9c4a-19fde861d5fd",
   "metadata": {},
   "outputs": [
    {
     "data": {
      "text/plain": [
       "<AxesSubplot:>"
      ]
     },
     "execution_count": 34,
     "metadata": {},
     "output_type": "execute_result"
    },
    {
     "data": {
      "application/vnd.jupyter.widget-view+json": {
       "model_id": "21f7256624a64cef93b04e4673180211",
       "version_major": 2,
       "version_minor": 0
      },
      "image/png": "[encoded data removed]",
      "text/plain": [
       "Canvas(toolbar=Toolbar(toolitems=[('Home', 'Reset original view', 'home', 'home'), ('Back', 'Back to previous …"
      ]
     },
     "metadata": {},
     "output_type": "display_data"
    }
   ],
   "source": [
    "lvls_lst=[str(i) for i in range(4+1)]\n",
    "cols=['iter']+lvls_lst\n",
    "\n",
    "fname='../3_complex_scalar_adaptivemgrid/1_regular_tl_code/resmag2_gauged.txt'\n",
    "df=pd.read_csv(fname,delimiter=',',names=cols,index_col=False)\n",
    "df.plot(y=['0','1','2','3','4'] ,kind='line',marker='*',logy=True)"
   ]
  },
  {
   "cell_type": "code",
   "execution_count": 35,
   "id": "a4fe1df5-d294-4e51-93b2-1e248c9fdcc7",
   "metadata": {},
   "outputs": [
    {
     "data": {
      "text/plain": [
       "<AxesSubplot:>"
      ]
     },
     "execution_count": 35,
     "metadata": {},
     "output_type": "execute_result"
    },
    {
     "data": {
      "application/vnd.jupyter.widget-view+json": {
       "model_id": "9946b4f2ea874852bfd6d83519456e75",
       "version_major": 2,
       "version_minor": 0
      },
      "image/png": "[encoded data removed]",
      "text/plain": [
       "Canvas(toolbar=Toolbar(toolitems=[('Home', 'Reset original view', 'home', 'home'), ('Back', 'Back to previous …"
      ]
     },
     "metadata": {},
     "output_type": "display_data"
    }
   ],
   "source": [
    "lvls_lst=[str(i) for i in range(4+1)]\n",
    "cols=['iter']+lvls_lst\n",
    "\n",
    "fname='../3_complex_scalar_adaptivemgrid/1_regular_tl_code/resmag1_gauged.txt'\n",
    "df=pd.read_csv(fname,delimiter=',',names=cols,index_col=False)\n",
    "df.plot(y=lvls_lst,kind='line',marker='*',logy=True)"
   ]
  },
  {
   "cell_type": "code",
   "execution_count": 36,
   "id": "d79c6415-c7f2-42b7-9316-6446f13e91a6",
   "metadata": {},
   "outputs": [
    {
     "name": "stdout",
     "output_type": "stream",
     "text": [
      "[1024, 256, 64, 16]\n"
     ]
    },
    {
     "data": {
      "text/plain": [
       "1360"
      ]
     },
     "execution_count": 36,
     "metadata": {},
     "output_type": "execute_result"
    }
   ],
   "source": [
    "lst=[(32//(2**i))**2 for i in range(4)]\n",
    "print(lst)\n",
    "sum(lst)"
   ]
  },
  {
   "cell_type": "code",
   "execution_count": null,
   "id": "4f916d19-fabb-4f7f-8888-45a10531e41e",
   "metadata": {},
   "outputs": [],
   "source": []
  }
 ],
 "metadata": {
  "kernelspec": {
   "display_name": "v3",
   "language": "python",
   "name": "vpy39"
  },
  "language_info": {
   "codemirror_mode": {
    "name": "ipython",
    "version": 3
   },
   "file_extension": ".py",
   "mimetype": "text/x-python",
   "name": "python",
   "nbconvert_exporter": "python",
   "pygments_lexer": "ipython3",
   "version": "3.9.7"
  }
 },
 "nbformat": 4,
 "nbformat_minor": 5
}
