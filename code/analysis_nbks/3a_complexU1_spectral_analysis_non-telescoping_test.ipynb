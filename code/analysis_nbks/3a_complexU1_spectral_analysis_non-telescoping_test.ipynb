{
 "cells": [
  {
   "cell_type": "markdown",
   "id": "2111be2d-8ded-4620-8c24-b014af2e3f19",
   "metadata": {},
   "source": [
    "# Analyzing scaling with mass \n",
    "Nov 24, 2021 \\\n",
    "Venkitesh Ayyar"
   ]
  },
  {
   "cell_type": "code",
   "execution_count": 1,
   "id": "9d182f34-c302-42fc-a09f-afe6c4b0b14a",
   "metadata": {},
   "outputs": [],
   "source": [
    "import numpy as np\n",
    "import matplotlib.pyplot as plt\n",
    "import pandas as pd\n",
    "import sys"
   ]
  },
  {
   "cell_type": "code",
   "execution_count": 2,
   "id": "4f89d8aa-0941-4a32-8984-0ec01aabed92",
   "metadata": {},
   "outputs": [],
   "source": [
    "%matplotlib widget"
   ]
  },
  {
   "cell_type": "code",
   "execution_count": 3,
   "id": "22d81adc-e11a-4dab-9857-87b96d00b81c",
   "metadata": {},
   "outputs": [],
   "source": [
    "from ipywidgets import *\n",
    "from scipy import fftpack\n",
    "from matplotlib.colors import LogNorm, PowerNorm, Normalize"
   ]
  },
  {
   "cell_type": "code",
   "execution_count": 4,
   "id": "9cfa8a6e-9767-423e-b971-6c498350a6f1",
   "metadata": {
    "tags": []
   },
   "outputs": [],
   "source": [
    "# # Load data\n",
    "# def f_get_data(fname):\n",
    "#     arr=np.loadtxt(fname,delimiter=',',dtype=str)\n",
    "#     arr_iters=arr[:,0].astype(int) # First element is iteration number\n",
    "#     arr1=arr[:,1:-1].astype(float)  # Skip last element (null string) and first (iteration)\n",
    "#     del(arr)\n",
    "#     # print(arr1.shape)\n",
    "#     L=int(np.sqrt(arr1.shape[1])) # Get lattice size\n",
    "#     num=arr1.shape[0]\n",
    "#     print(L)\n",
    "#     # a3=arr1.reshape(134,L,L) :  simple reshape doesn't do it in the correct order\n",
    "#     ## Reshape to 2D image\n",
    "#     arr2=np.empty((num,L,L),dtype=float)\n",
    "#     for i in range(num): \n",
    "#         for x in range(L):\n",
    "#             for y in range(L):\n",
    "#                 arr2[i,x,y]=arr1[i,x+y*L]\n",
    "\n",
    "#     print(arr2.shape)\n",
    "    \n",
    "#     return arr2\n",
    "\n",
    "\n",
    "# def f_rescale(arr,mean):\n",
    "#     # print(arr.dtype)\n",
    "#     a1=np.array([abs((i-mean)) for i in arr])\n",
    "#     return a1\n",
    "\n",
    "   \n",
    "# # f_rescale(arr_lst[0][:5],soln)"
   ]
  },
  {
   "cell_type": "code",
   "execution_count": 5,
   "id": "b29564cf-8e48-4fd3-8331-b046d47e7bbb",
   "metadata": {},
   "outputs": [],
   "source": [
    "def f_get_data(fname): # Modified for complex field\n",
    "    \n",
    "    def f_conv_complex(strg):\n",
    "        ''' Convert input from a+ib to python complex form'''\n",
    "        arr=[np.float64(k) for k in strg.split('+i')]\n",
    "        return complex(arr[0],arr[1])\n",
    "    \n",
    "    arr=np.loadtxt(fname,delimiter=',',dtype=str)\n",
    "    \n",
    "    arr_iters=arr[:,0].astype(int) # First element is iteration number\n",
    "    \n",
    "    arr1=np.vectorize(f_conv_complex)(arr[:,1:-1]) # Skip last element (null string) and first (iteration)\n",
    "    del(arr)\n",
    "    # print(arr1.shape)\n",
    "    L=int(np.sqrt(arr1.shape[1])) # Get lattice size\n",
    "    num=arr1.shape[0]\n",
    "    print(L)\n",
    "    # a3=arr1.reshape(134,L,L) :  simple reshape doesn't do it in the correct order\n",
    "    ## Reshape to 2D image\n",
    "    arr2=np.empty((num,L,L),dtype=complex)\n",
    "    for i in range(num): \n",
    "        for x in range(L):\n",
    "            for y in range(L):\n",
    "                arr2[i,x,y]=arr1[i,x+y*L]\n",
    "\n",
    "    print(arr2.shape)\n",
    "    \n",
    "    return arr2\n",
    "\n",
    "def f_rescale(arr,mean):\n",
    "    a1=np.array([abs(i-mean) for i in arr])\n",
    "    a1=np.abs(a1)\n",
    "    return a1\n",
    "\n",
    "# _=f_get_data(fname)\n",
    "# f_rescale(arr_lst[0][:5],soln)"
   ]
  },
  {
   "cell_type": "code",
   "execution_count": null,
   "id": "24e12cf1-9099-46d5-aa35-b70a78de2858",
   "metadata": {},
   "outputs": [],
   "source": []
  },
  {
   "cell_type": "code",
   "execution_count": 6,
   "id": "8e5bed3b-81b6-48b2-8255-0596eafbc1b1",
   "metadata": {},
   "outputs": [],
   "source": [
    "# def f_spectrum(arr):\n",
    "#     F2 = fftpack.fft2((arr))\n",
    "#     # F2 = fftpack.fftshift(F2)\n",
    "    \n",
    "#     ### Absolute value of F-transform\n",
    "#     F2 = np.abs(F2)**2\n",
    "    \n",
    "#     return F2 \n",
    "\n",
    "def f_spectrum(arr):\n",
    "    F2 = np.fft.fft2(arr)\n",
    "    F2=np.fft.fftshift(F2,axes=None)\n",
    "    ### Absolute value of F-transform\n",
    "    F2 = np.abs(F2)**2\n",
    "    \n",
    "    return F2 \n",
    "\n",
    "def f_batch_spectrum(arr):\n",
    "    P_k=[f_spectrum(i) for i in arr]\n",
    "    return np.array(P_k)\n",
    "\n"
   ]
  },
  {
   "cell_type": "code",
   "execution_count": 7,
   "id": "465100cf-f995-4df7-a0a2-a8da4a4a84d9",
   "metadata": {},
   "outputs": [],
   "source": [
    "# fname='../results_phi.txt'\n",
    "# fname='../results_residue.txt'\n",
    "# a1=f_get_data(fname)"
   ]
  },
  {
   "cell_type": "code",
   "execution_count": 8,
   "id": "032b1007-42f5-4908-8b15-57147556afb0",
   "metadata": {
    "tags": []
   },
   "outputs": [
    {
     "name": "stdout",
     "output_type": "stream",
     "text": [
      "../3_complex_scalar_nontelescoping/results_phi_L32_m0.1_0lvl.txt\n",
      "32\n",
      "(13, 32, 32)\n",
      "../3_complex_scalar_nontelescoping/results_phi_L32_m0.1_1lvl.txt\n",
      "32\n",
      "(8, 32, 32)\n",
      "../3_complex_scalar_nontelescoping/results_phi_L32_m0.1_2lvl.txt\n",
      "32\n",
      "(8, 32, 32)\n",
      "../3_complex_scalar_nontelescoping/results_phi_L32_m0.1_3lvl.txt\n",
      "32\n",
      "(8, 32, 32)\n",
      "../3_complex_scalar_nontelescoping/results_phi_L32_m0.1_4lvl.txt\n",
      "32\n",
      "(8, 32, 32)\n"
     ]
    }
   ],
   "source": [
    "arr_type='phi'\n",
    "m=0.1\n",
    "\n",
    "# arr_type='residue'\n",
    "lst=['0lvl','1lvl','2lvl','3lvl','4lvl']\n",
    "lst2=['results_{0}_L32_m{1}_{2}.txt'.format(arr_type,m,i) for i in lst]\n",
    "\n",
    "# lst2=['results_residue.txt']\n",
    "num=len(lst2)\n",
    "arr_lst=[]\n",
    "for i in range(num):     \n",
    "    fname='../3_complex_scalar_nontelescoping/'+lst2[i]\n",
    "    # fname='../stored_results/2_64_ntl/'+lst2[i]\n",
    "    print(fname)\n",
    "    arr_lst.append(f_get_data(fname))\n"
   ]
  },
  {
   "cell_type": "code",
   "execution_count": 9,
   "id": "d569e807-a9a5-4a98-9810-d167c665126b",
   "metadata": {},
   "outputs": [],
   "source": [
    "labels_lst=['tl_2lvl','ntl_1copy','ntl_2copy','ntl_3copy','ntl_4copy','tl_3lvl']\n",
    "labels_lst=['a','b','c','d','e']\n",
    "# labels_lst=['a']"
   ]
  },
  {
   "cell_type": "code",
   "execution_count": 10,
   "id": "fd4e6c2f-58b0-4208-8f72-7aeb213a0a8f",
   "metadata": {
    "jupyter": {
     "source_hidden": true
    },
    "tags": []
   },
   "outputs": [],
   "source": [
    "# arr_type='phi'\n",
    "# # arr_type='residue'\n",
    "# lst=['1_gs','1_jc','2_mg-1level1itr','3_mg-1level5itr','4_mg-4level5itr']\n",
    "# lst2=['stored_results/2_32_0.04_gs/'+'results_{0}_{1}.txt'.format(arr_type,i) for i in lst]\n",
    "\n",
    "# num=len(lst)\n",
    "# arr_lst=[]\n",
    "# for i in range(num):     \n",
    "#     fname='../'+lst2[i]\n",
    "#     print(fname)\n",
    "#     arr_lst.append(f_get_data(fname))"
   ]
  },
  {
   "cell_type": "code",
   "execution_count": null,
   "id": "9a361848-8055-494e-82da-b5c764b10d1e",
   "metadata": {},
   "outputs": [],
   "source": []
  },
  {
   "cell_type": "code",
   "execution_count": 11,
   "id": "5f3abec7-255e-4fe1-bf77-dd87def879f7",
   "metadata": {
    "tags": []
   },
   "outputs": [
    {
     "name": "stdout",
     "output_type": "stream",
     "text": [
      "0 (13, 32, 32)\n",
      "1 (8, 32, 32)\n",
      "2 (8, 32, 32)\n",
      "3 (8, 32, 32)\n",
      "4 (8, 32, 32)\n"
     ]
    }
   ],
   "source": [
    "# Convert phi to error\n",
    "err_lst=[]\n",
    "soln=arr_lst[0][-1] ## Pick best solution\n",
    "for i,arr in enumerate(arr_lst):\n",
    "    print(i,arr.shape)\n",
    "    err_lst.append(f_rescale(arr_lst[i],soln))\n"
   ]
  },
  {
   "cell_type": "code",
   "execution_count": 12,
   "id": "24514f38-437e-4138-a6ad-8006861d3dbd",
   "metadata": {},
   "outputs": [],
   "source": [
    "## Compute spectrum\n",
    "aspec_lst=[f_batch_spectrum(arr)[:] for arr in err_lst]"
   ]
  },
  {
   "cell_type": "code",
   "execution_count": 13,
   "id": "fc8af488-1886-46fe-809d-338a9e4bf8f0",
   "metadata": {
    "tags": []
   },
   "outputs": [],
   "source": [
    "# k=16\n",
    "# print(arr_lst[0][-1,k,k],arr_lst[1][-1,k,k],arr_lst[2][-1,k,k],arr_lst[3][-1,k,k])\n",
    "# print(err_lst[0][-1,k,k],err_lst[1][-1,k,k],err_lst[2][-1,k,k],err_lst[3][-1,k,k])"
   ]
  },
  {
   "cell_type": "code",
   "execution_count": 14,
   "id": "46e2377e-935a-4cde-a2a4-c7ebb5e2628d",
   "metadata": {},
   "outputs": [
    {
     "data": {
      "text/plain": [
       "dtype('float64')"
      ]
     },
     "execution_count": 14,
     "metadata": {},
     "output_type": "execute_result"
    }
   ],
   "source": [
    "type(arr_lst[0][0,0,0])\n",
    "err_lst[0].dtype"
   ]
  },
  {
   "cell_type": "code",
   "execution_count": 15,
   "id": "112f4f8b-ad8a-4863-8d99-4bc2c18e9eff",
   "metadata": {},
   "outputs": [
    {
     "data": {
      "text/plain": [
       "array([[0., 0., 0., ..., 0., 0., 0.],\n",
       "       [0., 0., 0., ..., 0., 0., 0.],\n",
       "       [0., 0., 0., ..., 0., 0., 0.],\n",
       "       ...,\n",
       "       [0., 0., 0., ..., 0., 0., 0.],\n",
       "       [0., 0., 0., ..., 0., 0., 0.],\n",
       "       [0., 0., 0., ..., 0., 0., 0.]])"
      ]
     },
     "execution_count": 15,
     "metadata": {},
     "output_type": "execute_result"
    }
   ],
   "source": [
    "err_lst[0][-1]"
   ]
  },
  {
   "cell_type": "markdown",
   "id": "e962f766-9feb-4dba-9b3c-3f7bc5eea2ea",
   "metadata": {
    "tags": []
   },
   "source": [
    "### Debug single run"
   ]
  },
  {
   "cell_type": "markdown",
   "id": "30b0e5b8-0b3e-41c5-bb8f-cca9155f58d6",
   "metadata": {
    "tags": []
   },
   "source": [
    "#### Convergence of spectral values"
   ]
  },
  {
   "cell_type": "code",
   "execution_count": 25,
   "id": "9ac5cb0c-a605-4b8a-9077-411c5e1cbc95",
   "metadata": {
    "tags": []
   },
   "outputs": [
    {
     "data": {
      "application/vnd.jupyter.widget-view+json": {
       "model_id": "e138900248f34383b5f12aa3c1dc750a",
       "version_major": 2,
       "version_minor": 0
      },
      "text/plain": [
       "interactive(children=(IntSlider(value=0, description='kx', max=15, min=-16), IntSlider(value=0, description='k…"
      ]
     },
     "metadata": {},
     "output_type": "display_data"
    },
    {
     "data": {
      "text/plain": [
       "<function __main__.f_plot_spec_iteration(arr, kx, ky)>"
      ]
     },
     "execution_count": 25,
     "metadata": {},
     "output_type": "execute_result"
    }
   ],
   "source": [
    "def f_plot_spec_iteration(arr,kx,ky):\n",
    "    L=arr.shape[-1]\n",
    "    id_x,id_y=kx+L//2,ky+L//2\n",
    "    # print(arr[1:,id_x,id_y])\n",
    "    plt.figure()\n",
    "    plt.plot(arr[1:,id_x,id_y]/np.max(arr[1:,id_x,id_y]),marker='o',linestyle='')\n",
    "    plt.xlabel('Iteration')\n",
    "    plt.yscale('log')\n",
    "    plt.show()\n",
    "# f_plot_spec_iteration(aspec_lst[0],0,0)\n",
    "\n",
    "kmax=aspec_lst[0].shape[1]//2\n",
    "interact(f_plot_spec_iteration,arr=fixed(aspec_lst[0]),kx=IntSlider(min=-kmax,max=kmax-1,step=1),ky=IntSlider(min=-kmax,max=kmax-1,step=1))\n",
    "\n"
   ]
  },
  {
   "cell_type": "markdown",
   "id": "3a9a315f-153e-4724-bde4-a6ae0848e0de",
   "metadata": {},
   "source": [
    "error = (phi - solution) \\\n",
    "FFT of $ error[x,y] \\rightarrow error[kx,ky] $ \\\n",
    "Plotting : $$ \\frac{\\mbox{error}[iter, kx, ky]}{max(\\mbox{error}[iter,kx,ky])} $$ "
   ]
  },
  {
   "cell_type": "code",
   "execution_count": 17,
   "id": "a616ac0d-74b0-475d-9050-7da7073378e1",
   "metadata": {
    "tags": []
   },
   "outputs": [
    {
     "name": "stdout",
     "output_type": "stream",
     "text": [
      "(13, 32, 32)\n"
     ]
    },
    {
     "data": {
      "application/vnd.jupyter.widget-view+json": {
       "model_id": "12fe179907f64c9db1dbdc13e355d475",
       "version_major": 2,
       "version_minor": 0
      },
      "image/png": "[encoded data removed]",
      "text/plain": [
       "Canvas(toolbar=Toolbar(toolitems=[('Home', 'Reset original view', 'home', 'home'), ('Back', 'Back to previous …"
      ]
     },
     "metadata": {},
     "output_type": "display_data"
    }
   ],
   "source": [
    "def f_grid_iter_plot(arr,klist):\n",
    "    \n",
    "    fig=plt.figure()\n",
    "\n",
    "    size=len(klist)\n",
    "    cols=max(size//2,1)\n",
    "    cols=min(cols,4)\n",
    "    rows=int(np.ceil(size/cols))\n",
    "    # rows,cols=2,2\n",
    "    \n",
    "    L=arr.shape[-1]\n",
    "    print(arr.shape)\n",
    "    # arr=arr[:]/np.max(arr)\n",
    "    for count,k in enumerate(klist):\n",
    "        kx,ky=k[0],k[1]\n",
    "        id_x,id_y=kx+L//2,ky+L//2\n",
    "        # fig.add_subplot(rows,cols,count+1)\n",
    "        # plt.plot(arr[1:,id_x,id_y], marker='*',markersize=4,linestyle='',label=\"k=\"+str(k))\n",
    "        plt.plot(arr[1:,id_x,id_y]/np.max(arr[1:,id_x,id_y]), marker='*',markersize=4,linestyle='',label=\"k=\"+str(k))\n",
    "        plt.legend()\n",
    "        plt.yscale('log')\n",
    "    plt.show()\n",
    "\n",
    "klist=[(0,0),(0,1),(1,1),(2,2),(5,5),(10,10),(15,15)]\n",
    "f_grid_iter_plot(aspec_lst[0][:5000],klist)\n"
   ]
  },
  {
   "cell_type": "markdown",
   "id": "8d53aac0-caa0-4a1d-8e61-33ea50d3b2ea",
   "metadata": {},
   "source": [
    "Slopes: \n",
    "\n",
    "0 : (1-0.56)/600 : 0.0008\n",
    "1 : (1-5e-6)/600 : 0.002\n",
    "2 : (1-3e-4)/200 : 0.005\n",
    "3 : (1-1e-5)/75 :  0.013\n",
    "4 : (1-6e-6)/10  : 0.1"
   ]
  },
  {
   "cell_type": "markdown",
   "id": "840a0512-572a-4689-9ff9-61ed59ea57dc",
   "metadata": {
    "tags": []
   },
   "source": [
    "### Compare different runs"
   ]
  },
  {
   "cell_type": "code",
   "execution_count": 18,
   "id": "6dc9a60b-7cb6-4e30-bf11-5ee0d1fb25f6",
   "metadata": {},
   "outputs": [
    {
     "data": {
      "application/vnd.jupyter.widget-view+json": {
       "model_id": "75a3389de0d74543b441d4d8165f6d13",
       "version_major": 2,
       "version_minor": 0
      },
      "image/png": "[encoded data removed]",
      "text/plain": [
       "Canvas(toolbar=Toolbar(toolitems=[('Home', 'Reset original view', 'home', 'home'), ('Back', 'Back to previous …"
      ]
     },
     "metadata": {},
     "output_type": "display_data"
    }
   ],
   "source": [
    "# Plot mean absolute error\n",
    "def f_plot_mean_err(arrlist,labellist):\n",
    "    fig=plt.figure()\n",
    "        \n",
    "    mrkrs=['o','*','v','x','D','H','s','8','p']\n",
    "    for count,(lbl,mrkr) in enumerate(zip(labellist,mrkrs)):\n",
    "        arr=arrlist[count]\n",
    "        ans=np.mean(arr,axis=(1,2))\n",
    "        plt.plot(ans, marker=mrkr,markersize=5,linestyle='',label=lbl)\n",
    "\n",
    "        plt.legend()\n",
    "    plt.yscale('log')\n",
    "    plt.title('Mean of error')\n",
    "    plt.xlabel('Iterations on top level / 3')\n",
    "    plt.show()\n",
    "\n",
    "f_plot_mean_err(err_lst[:5],labels_lst[:5])"
   ]
  },
  {
   "cell_type": "code",
   "execution_count": 19,
   "id": "340acf55-0d41-489d-a563-dc5694d7b19b",
   "metadata": {
    "tags": []
   },
   "outputs": [],
   "source": [
    "# Plot Spectral coefficients\n",
    "def f_compare_runs(arrlist,labellist,kx,ky):\n",
    "    fig=plt.figure()\n",
    "\n",
    "    size=len(labellist)\n",
    "    cols=max(size//2,1)\n",
    "    cols=min(cols,4)\n",
    "    rows=int(np.ceil(size/cols))\n",
    "    # rows,cols=2,2\n",
    "    \n",
    "    L=arr.shape[-1]\n",
    "    id_x,id_y=kx+L//2,ky+L//2\n",
    "        \n",
    "    mrkrs=['o','*','v','x','D','H','s','8','p']\n",
    "    for count,(lbl,mrkr) in enumerate(zip(labellist,mrkrs)):\n",
    "        a_spec=arrlist[count]\n",
    "        # fig.add_subplot(rows,cols,count+1)\n",
    "        plt.plot(a_spec[1:,id_x,id_y], marker=mrkr,markersize=5,linestyle='',label=lbl)\n",
    "\n",
    "        plt.legend()\n",
    "    plt.yscale('log')\n",
    "    plt.title('Fourier coefficient of Error for kx=%s, ky=%s'%(kx,ky))\n",
    "    plt.xlabel('Iterations on top level / 3')\n",
    "    plt.show()\n",
    "    \n",
    "# f_compare_runs(aspec_lst[:],labels_lst[:],2,0)"
   ]
  },
  {
   "cell_type": "code",
   "execution_count": 20,
   "id": "af79ab99-c10f-41d0-aef3-eb4bf76927ae",
   "metadata": {},
   "outputs": [
    {
     "data": {
      "application/vnd.jupyter.widget-view+json": {
       "model_id": "ea4e8f8fa6aa41c48ba4b813ee3b0af7",
       "version_major": 2,
       "version_minor": 0
      },
      "text/plain": [
       "interactive(children=(IntSlider(value=0, description='kx', max=15, min=-16), IntSlider(value=0, description='k…"
      ]
     },
     "metadata": {},
     "output_type": "display_data"
    },
    {
     "data": {
      "text/plain": [
       "<function __main__.f_compare_runs(arrlist, labellist, kx, ky)>"
      ]
     },
     "execution_count": 20,
     "metadata": {},
     "output_type": "execute_result"
    }
   ],
   "source": [
    "kmax=arr_lst[0].shape[-1]//2\n",
    "\n",
    "interact(f_compare_runs,arrlist=fixed(aspec_lst[:5]),labellist=fixed(labels_lst[:5]),kx=IntSlider(min=-kmax,max=kmax-1,step=1),ky=IntSlider(min=-kmax,max=kmax-1,step=1))\n"
   ]
  },
  {
   "cell_type": "markdown",
   "id": "e98fa6c6-7e7a-405d-af34-105ab668e910",
   "metadata": {},
   "source": [
    "## Plot convergence speed"
   ]
  },
  {
   "cell_type": "code",
   "execution_count": 21,
   "id": "f2bd3ba7-3b34-4b6f-90e9-ec26b2a7d6f9",
   "metadata": {},
   "outputs": [
    {
     "data": {
      "text/plain": [
       "[<matplotlib.lines.Line2D at 0x118ae4850>]"
      ]
     },
     "execution_count": 21,
     "metadata": {},
     "output_type": "execute_result"
    },
    {
     "data": {
      "application/vnd.jupyter.widget-view+json": {
       "model_id": "723e09695d7e41838f559ab644df218f",
       "version_major": 2,
       "version_minor": 0
      },
      "image/png": "[encoded data removed]",
      "text/plain": [
       "Canvas(toolbar=Toolbar(toolitems=[('Home', 'Reset original view', 'home', 'home'), ('Back', 'Back to previous …"
      ]
     },
     "metadata": {},
     "output_type": "display_data"
    }
   ],
   "source": [
    "labels_lst\n",
    "max_itrs_lst=[i.shape[0] for i in err_lst]\n",
    "\n",
    "plt.figure(figsize=(8,5))\n",
    "plt.plot(labels_lst,max_itrs_lst,marker='*',linestyle='')"
   ]
  },
  {
   "cell_type": "code",
   "execution_count": null,
   "id": "3ae13457-aa4b-4cc4-b073-9dd4f358342e",
   "metadata": {},
   "outputs": [],
   "source": []
  }
 ],
 "metadata": {
  "kernelspec": {
   "display_name": "v3",
   "language": "python",
   "name": "vpy39"
  },
  "language_info": {
   "codemirror_mode": {
    "name": "ipython",
    "version": 3
   },
   "file_extension": ".py",
   "mimetype": "text/x-python",
   "name": "python",
   "nbconvert_exporter": "python",
   "pygments_lexer": "ipython3",
   "version": "3.9.7"
  }
 },
 "nbformat": 4,
 "nbformat_minor": 5
}
