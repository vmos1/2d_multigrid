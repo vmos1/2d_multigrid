{
 "cells": [
  {
   "cell_type": "markdown",
   "id": "2111be2d-8ded-4620-8c24-b014af2e3f19",
   "metadata": {},
   "source": [
    "# Analyzing scaling with mass \n",
    "October 13, 2021 \n",
    "Venkitesh Ayyar"
   ]
  },
  {
   "cell_type": "code",
   "execution_count": null,
   "id": "9d182f34-c302-42fc-a09f-afe6c4b0b14a",
   "metadata": {},
   "outputs": [],
   "source": [
    "import numpy as np\n",
    "import matplotlib.pyplot as plt\n",
    "import pandas as pd\n",
    "\n",
    "import glob\n",
    "import subprocess as sp"
   ]
  },
  {
   "cell_type": "code",
   "execution_count": null,
   "id": "8eb3cd05-e80f-4cce-b856-35bb3a37b4a5",
   "metadata": {},
   "outputs": [],
   "source": [
    "from ipywidgets import *"
   ]
  },
  {
   "cell_type": "code",
   "execution_count": null,
   "id": "4f89d8aa-0941-4a32-8984-0ec01aabed92",
   "metadata": {},
   "outputs": [],
   "source": [
    "%matplotlib widget"
   ]
  },
  {
   "cell_type": "code",
   "execution_count": null,
   "id": "813c9e97-2b1b-4f42-9261-5ca3897d489d",
   "metadata": {},
   "outputs": [],
   "source": [
    "# # Load data\n",
    "\n",
    "def f_get_data(fname): # Modified for complex field\n",
    "    \n",
    "    def f_conv_complex(strg):\n",
    "        ''' Convert input from a+ib to python complex form'''\n",
    "        arr=[np.float64(k) for k in strg.split('+i')]\n",
    "        return complex(arr[0],arr[1])\n",
    "    \n",
    "    arr=np.loadtxt(fname,delimiter=',',dtype=str)\n",
    "    \n",
    "    arr_iters=arr[:,0].astype(int) # First element is iteration number\n",
    "    \n",
    "    arr1=np.vectorize(f_conv_complex)(arr[:,1:-1]) # Skip last element (null string) and first (iteration)\n",
    "    del(arr)\n",
    "    # print(arr1.shape)\n",
    "    L=int(np.sqrt(arr1.shape[1])) # Get lattice size\n",
    "    num=arr1.shape[0]\n",
    "    # print(L)\n",
    "    # a3=arr1.reshape(134,L,L) :  simple reshape doesn't do it in the correct order\n",
    "    ## Reshape to 2D image\n",
    "    arr2=np.empty((num,L,L),dtype=complex)\n",
    "    for i in range(num): \n",
    "        for x in range(L):\n",
    "            for y in range(L):\n",
    "                arr2[i,x,y]=arr1[i,x+y*L]\n",
    "\n",
    "    print(arr2.shape)\n",
    "    \n",
    "    return arr2\n",
    "\n",
    "def f_rescale(arr,mean):\n",
    "    a1=np.array([abs(i-mean) for i in arr])\n",
    "    a1=np.abs(a1)\n",
    "    return a1\n",
    "\n",
    "# _=f_get_data(fname)\n",
    "# f_rescale(arr_lst[0][:5],soln)"
   ]
  },
  {
   "cell_type": "code",
   "execution_count": null,
   "id": "88d1b48a-5803-464f-ae33-061c1110c4aa",
   "metadata": {},
   "outputs": [],
   "source": [
    "# L=32\n",
    "# arr1=np.zeros(L**2,dtype=np.float64)\n",
    "# fname='../4_non-telescoping_mg/1_nontl_minres/results_residue_L{0}_m-0.06_lvls3_blk2_cpy1.txt'.format(L)        \n",
    "# arr1=f_get_data(fname)\n",
    "\n",
    "# arr2=np.zeros(L**2,dtype=np.float64)\n",
    "# fname='../4_non-telescoping_mg/1_nontl_minres/results_residue_L{0}_m-0.06_lvls3_blk2_cpy4.txt'.format(L)        \n",
    "# arr2=f_get_data(fname)\n",
    "\n",
    "# res_mag1=[np.linalg.norm(arr1[i,:,:].flatten()) for i in range(arr1.shape[0])]\n",
    "# res_mag2=[np.linalg.norm(arr2[i,:,:].flatten()) for i in range(arr2.shape[0])]\n"
   ]
  },
  {
   "cell_type": "code",
   "execution_count": null,
   "id": "12822fb4-3f91-4016-b97f-853528f6e897",
   "metadata": {},
   "outputs": [],
   "source": [
    "fldr='/Users/vayyar/Desktop/work/PROJECTS/Multigrid/2d_multigrid/code/6_ntl-mg_new_code/1_new_code_/'\n",
    "fldr='/Users/vayyar/Desktop/work/PROJECTS/Multigrid/2d_multigrid/code/6_ntl-mg_new_code/2_new_code_with_classes/'"
   ]
  },
  {
   "cell_type": "code",
   "execution_count": null,
   "id": "67d8ab25-0174-4220-80cf-e040ce08a989",
   "metadata": {},
   "outputs": [],
   "source": [
    "file_lst=glob.glob(fldr+'results_res_lvl*')"
   ]
  },
  {
   "cell_type": "code",
   "execution_count": null,
   "id": "f162e159-e19a-4aa1-924a-add61839f722",
   "metadata": {},
   "outputs": [],
   "source": [
    "dict1={}\n",
    "df_data=pd.DataFrame()\n",
    "\n",
    "for fle in file_lst[:]:\n",
    "    fname=fle\n",
    "    lvls=int(fname.split('/')[-1].split('lvl-')[-1].split('.txt')[0])\n",
    "    arr=f_get_data(fname)\n",
    "    res_mag=np.array([np.linalg.norm(arr[i,:,:].flatten()) for i in range(arr.shape[0])])\n",
    "\n",
    "    # iters=arr.shape[0]\n",
    "    dict1={'lvls':lvls,'res_mag_arr':res_mag,'fname':fle}\n",
    "    \n",
    "    df_data=df_data.append(dict1,ignore_index=True)\n",
    "    df_data=df_data.sort_values(by=['lvls'])\n",
    "    "
   ]
  },
  {
   "cell_type": "code",
   "execution_count": null,
   "id": "9687d84b-9bf0-45c1-8d8d-c05d8a6c0ef6",
   "metadata": {},
   "outputs": [],
   "source": [
    "df_data"
   ]
  },
  {
   "cell_type": "code",
   "execution_count": null,
   "id": "83ba146e-edad-4802-8ec5-240e7365b96b",
   "metadata": {},
   "outputs": [],
   "source": [
    "\n",
    "def f_plot_iters(df):\n",
    "    plt.figure()\n",
    "\n",
    "    for lvl in np.unique(df.lvls.values):\n",
    "        df1=df[df.lvls==lvl]\n",
    "        # display(df1)\n",
    "        y=df1.res_mag_arr.values[0]\n",
    "        # print(y[0])\n",
    "        # print(y[0].shape)\n",
    "        plt.plot(y,marker='o',linestyle='',label='lvls='+str(lvl))\n",
    "\n",
    "    plt.yscale('log')\n",
    "    plt.title(\"Magnitude of residue\")\n",
    "    plt.xlabel(\"iterations\")\n",
    "    plt.legend()\n",
    "    plt.show()\n",
    "\n",
    "f_plot_iters(df_data)"
   ]
  },
  {
   "cell_type": "code",
   "execution_count": null,
   "id": "462f962b-33d0-4c0e-ad7b-82e3429fded8",
   "metadata": {},
   "outputs": [],
   "source": [
    "# interact(f_plot_iters,df=fixed(df_data),L=np.unique(df_data.L.values))"
   ]
  },
  {
   "cell_type": "markdown",
   "id": "47bbd30d-b608-4ff4-8115-cee7b1557d4c",
   "metadata": {},
   "source": [
    "## Plot NTL weights"
   ]
  },
  {
   "cell_type": "code",
   "execution_count": null,
   "id": "5f344258-d0c9-4bc1-9004-8f9bc1f7e347",
   "metadata": {},
   "outputs": [],
   "source": [
    "fname=fldr+'results_NTL_weights.txt'\n",
    "arr=f_get_data(fname)\n",
    "arr2=np.array([i.flatten() for i in arr])"
   ]
  },
  {
   "cell_type": "code",
   "execution_count": null,
   "id": "92029edd-544c-4136-8bfa-8d5f86e6ecc2",
   "metadata": {},
   "outputs": [],
   "source": [
    "def f_plot_NTL_weights(arr):\n",
    "    \n",
    "    fig=plt.figure()\n",
    "    \n",
    "    fig.add_subplot(3,1,1)\n",
    "    for i in range(arr.shape[1]):\n",
    "        plt.plot(np.abs(arr[:,i]),marker='o',linestyle='-',label='idx '+str(i+1))\n",
    "        \n",
    "    plt.ylabel('Absolute value')\n",
    "    \n",
    "    fig.add_subplot(3,1,2)\n",
    "    for i in range(arr.shape[1]):\n",
    "        plt.plot(np.real(arr[:,i]),marker='o',linestyle='',label='idx '+str(i+1))\n",
    "        \n",
    "    plt.ylabel('Real part')\n",
    "    \n",
    "    fig.add_subplot(3,1,3)\n",
    "    for i in range(arr.shape[1]):\n",
    "        plt.plot(np.imag(arr[:,i]),marker='o',linestyle='',label='idx '+str(i+1))\n",
    "        \n",
    "    plt.legend(loc='lower right')\n",
    "    plt.xlabel(\"Iterations\")\n",
    "    plt.ylabel('Imaginary part')\n",
    "        \n",
    "f_plot_NTL_weights(arr2)"
   ]
  },
  {
   "cell_type": "code",
   "execution_count": null,
   "id": "2495f43c-e312-442b-b7de-a0659089cfdd",
   "metadata": {},
   "outputs": [],
   "source": []
  }
 ],
 "metadata": {
  "kernelspec": {
   "display_name": "v3",
   "language": "python",
   "name": "vpy39"
  },
  "language_info": {
   "codemirror_mode": {
    "name": "ipython",
    "version": 3
   },
   "file_extension": ".py",
   "mimetype": "text/x-python",
   "name": "python",
   "nbconvert_exporter": "python",
   "pygments_lexer": "ipython3",
   "version": "3.9.7"
  }
 },
 "nbformat": 4,
 "nbformat_minor": 5
}
