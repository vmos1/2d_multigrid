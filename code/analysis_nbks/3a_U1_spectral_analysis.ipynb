{
 "cells": [
  {
   "cell_type": "markdown",
   "id": "2111be2d-8ded-4620-8c24-b014af2e3f19",
   "metadata": {},
   "source": [
    "# Analyzing scaling with mass \n",
    "Nov 24, 2021 \\\n",
    "Venkitesh Ayyar"
   ]
  },
  {
   "cell_type": "code",
   "execution_count": 1,
   "id": "9d182f34-c302-42fc-a09f-afe6c4b0b14a",
   "metadata": {},
   "outputs": [],
   "source": [
    "import numpy as np\n",
    "import matplotlib.pyplot as plt\n",
    "import pandas as pd\n",
    "import sys"
   ]
  },
  {
   "cell_type": "code",
   "execution_count": 2,
   "id": "4f89d8aa-0941-4a32-8984-0ec01aabed92",
   "metadata": {},
   "outputs": [],
   "source": [
    "%matplotlib widget"
   ]
  },
  {
   "cell_type": "code",
   "execution_count": 3,
   "id": "22d81adc-e11a-4dab-9857-87b96d00b81c",
   "metadata": {},
   "outputs": [],
   "source": [
    "from ipywidgets import *\n",
    "from scipy import fftpack\n",
    "from matplotlib.colors import LogNorm, PowerNorm, Normalize"
   ]
  },
  {
   "cell_type": "code",
   "execution_count": 4,
   "id": "9cfa8a6e-9767-423e-b971-6c498350a6f1",
   "metadata": {
    "tags": []
   },
   "outputs": [],
   "source": [
    "# # Load data\n",
    "\n",
    "def f_get_data(fname): # Modified for complex field\n",
    "    \n",
    "    def f_conv_complex(strg):\n",
    "        ''' Convert input from a+ib to python complex form'''\n",
    "        arr=[np.float64(k) for k in strg.split('+i')]\n",
    "        return complex(arr[0],arr[1])\n",
    "    \n",
    "    arr=np.loadtxt(fname,delimiter=',',dtype=str)\n",
    "    \n",
    "    arr_iters=arr[:,0].astype(int) # First element is iteration number\n",
    "    \n",
    "    arr1=np.vectorize(f_conv_complex)(arr[:,1:-1]) # Skip last element (null string) and first (iteration)\n",
    "    del(arr)\n",
    "    # print(arr1.shape)\n",
    "    L=int(np.sqrt(arr1.shape[1])) # Get lattice size\n",
    "    num=arr1.shape[0]\n",
    "    print(L)\n",
    "    # a3=arr1.reshape(134,L,L) :  simple reshape doesn't do it in the correct order\n",
    "    ## Reshape to 2D image\n",
    "    arr2=np.empty((num,L,L),dtype=complex)\n",
    "    for i in range(num): \n",
    "        for x in range(L):\n",
    "            for y in range(L):\n",
    "                arr2[i,x,y]=arr1[i,x+y*L]\n",
    "\n",
    "    print(arr2.shape)\n",
    "    \n",
    "    return arr2\n",
    "\n",
    "def f_rescale(arr,mean):\n",
    "    a1=np.array([abs(i-mean) for i in arr])\n",
    "    a1=np.abs(a1)\n",
    "    return a1\n",
    "\n",
    "# _=f_get_data(fname)\n",
    "# f_rescale(arr_lst[0][:5],soln)"
   ]
  },
  {
   "cell_type": "code",
   "execution_count": 5,
   "id": "8e5bed3b-81b6-48b2-8255-0596eafbc1b1",
   "metadata": {},
   "outputs": [],
   "source": [
    "def f_spectrum(arr):\n",
    "    F2 = np.fft.fft2(arr)\n",
    "    F2=np.fft.fftshift(F2,axes=None)\n",
    "    ### Absolute value of F-transform\n",
    "    F2 = np.abs(F2)**2\n",
    "    \n",
    "    return F2 \n",
    "\n",
    "def f_batch_spectrum(arr):\n",
    "    P_k=[f_spectrum(i) for i in arr]\n",
    "    return np.array(P_k)\n"
   ]
  },
  {
   "cell_type": "code",
   "execution_count": 6,
   "id": "465100cf-f995-4df7-a0a2-a8da4a4a84d9",
   "metadata": {},
   "outputs": [],
   "source": [
    "# fname='../results_phi.txt'\n",
    "# fname='../results_residue.txt'\n",
    "# a1=f_get_data(fname)"
   ]
  },
  {
   "cell_type": "markdown",
   "id": "3a5d8e37-cc18-49a8-a6e3-caaadbad6213",
   "metadata": {},
   "source": [
    "### Read data"
   ]
  },
  {
   "cell_type": "code",
   "execution_count": 20,
   "id": "032b1007-42f5-4908-8b15-57147556afb0",
   "metadata": {
    "tags": []
   },
   "outputs": [],
   "source": [
    "arr_type='phi'\n",
    "m=-0.05\n",
    "L=32\n",
    "blk=2\n",
    "ndof=2\n",
    "# arr_type='residue'\n",
    "lst=[str(i) for i in range(0,5)]\n",
    "# lst=[str(i) for i in [0,2,4]]\n",
    "\n",
    "lst2=['results_{0}_L{1}_m{2}_lvls{3}_blk{4}_ndof{5}.txt'.format(arr_type,L,m,i,blk,ndof) for i in lst]\n",
    "\n",
    "num=len(lst2)\n",
    "arr_lst=[]\n",
    "fldr='results_files/'\n",
    "for i in range(num):     \n",
    "    fname='../3_complex_scalar_adaptivemgrid/1_regular_tl_code/stored_results/beta_6.0_ndof2/'+lst2[i]\n",
    "    print(fname)\n",
    "    arr_lst.append(f_get_data(fname))\n"
   ]
  },
  {
   "cell_type": "code",
   "execution_count": 21,
   "id": "5d4c55c5-55c1-4f1a-8e74-3f0c330bd6a8",
   "metadata": {},
   "outputs": [
    {
     "name": "stdout",
     "output_type": "stream",
     "text": [
      "128\n",
      "(124, 128, 128)\n"
     ]
    }
   ],
   "source": [
    "# arr_type='phi'\n",
    "m=-0.06\n",
    "L=128\n",
    "blk=4\n",
    "ndof=2\n",
    "arr_type='residue'\n",
    "arr_lst=[]\n",
    "\n",
    "fname='../4_non-telescoping_mg/1_nontl_avg_copies/results_residue.txt'    \n",
    "arr_lst.append(f_get_data(fname))"
   ]
  },
  {
   "cell_type": "code",
   "execution_count": 35,
   "id": "d569e807-a9a5-4a98-9810-d167c665126b",
   "metadata": {},
   "outputs": [],
   "source": [
    "# labels_lst=['tl_2lvl','ntl_1copy','ntl_2copy','ntl_3copy','ntl_4copy','tl_3lvl']\n",
    "# labels_lst=['a','b','c','d','e']\n",
    "# labels_lst=['0lvl','1lvl','2lvl','3lvl','4lvl']\n",
    "# labels_lst=['0lvl','2lvl','4lvl']"
   ]
  },
  {
   "cell_type": "code",
   "execution_count": 25,
   "id": "7916e483-23d7-4a48-ac64-3a5bb4988aa3",
   "metadata": {},
   "outputs": [
    {
     "data": {
      "text/plain": [
       "(124, 128, 128)"
      ]
     },
     "execution_count": 25,
     "metadata": {},
     "output_type": "execute_result"
    }
   ],
   "source": [
    "arr_lst[0].shape"
   ]
  },
  {
   "cell_type": "code",
   "execution_count": 26,
   "id": "5f3abec7-255e-4fe1-bf77-dd87def879f7",
   "metadata": {
    "tags": []
   },
   "outputs": [
    {
     "name": "stdout",
     "output_type": "stream",
     "text": [
      "0 (124, 128, 128)\n"
     ]
    }
   ],
   "source": [
    "## Pick best solution\n",
    "soln=arr_lst[0][-1] \n",
    "\n",
    "# Convert phi to error\n",
    "err_lst=[]\n",
    "for i,arr in enumerate(arr_lst):\n",
    "    print(i,arr.shape)\n",
    "    err_lst.append(f_rescale(arr_lst[i],soln))\n"
   ]
  },
  {
   "cell_type": "code",
   "execution_count": 11,
   "id": "24514f38-437e-4138-a6ad-8006861d3dbd",
   "metadata": {},
   "outputs": [],
   "source": [
    "## Compute spectrum\n",
    "aspec_lst=[f_batch_spectrum(arr)[:] for arr in err_lst]"
   ]
  },
  {
   "cell_type": "code",
   "execution_count": 38,
   "id": "46e2377e-935a-4cde-a2a4-c7ebb5e2628d",
   "metadata": {},
   "outputs": [
    {
     "data": {
      "text/plain": [
       "dtype('float64')"
      ]
     },
     "execution_count": 38,
     "metadata": {},
     "output_type": "execute_result"
    }
   ],
   "source": [
    "type(arr_lst[0][0,0,0])\n",
    "err_lst[0].dtype"
   ]
  },
  {
   "cell_type": "code",
   "execution_count": 12,
   "id": "112f4f8b-ad8a-4863-8d99-4bc2c18e9eff",
   "metadata": {},
   "outputs": [
    {
     "data": {
      "text/plain": [
       "array([[0., 0., 0., ..., 0., 0., 0.],\n",
       "       [0., 0., 0., ..., 0., 0., 0.],\n",
       "       [0., 0., 0., ..., 0., 0., 0.],\n",
       "       ...,\n",
       "       [0., 0., 0., ..., 0., 0., 0.],\n",
       "       [0., 0., 0., ..., 0., 0., 0.],\n",
       "       [0., 0., 0., ..., 0., 0., 0.]])"
      ]
     },
     "execution_count": 12,
     "metadata": {},
     "output_type": "execute_result"
    }
   ],
   "source": [
    "err_lst[0][-1]"
   ]
  },
  {
   "cell_type": "markdown",
   "id": "e962f766-9feb-4dba-9b3c-3f7bc5eea2ea",
   "metadata": {
    "tags": []
   },
   "source": [
    "### Debug single run"
   ]
  },
  {
   "cell_type": "markdown",
   "id": "30b0e5b8-0b3e-41c5-bb8f-cca9155f58d6",
   "metadata": {
    "tags": []
   },
   "source": [
    "#### Convergence of spectral values"
   ]
  },
  {
   "cell_type": "code",
   "execution_count": 13,
   "id": "9ac5cb0c-a605-4b8a-9077-411c5e1cbc95",
   "metadata": {
    "tags": []
   },
   "outputs": [
    {
     "data": {
      "application/vnd.jupyter.widget-view+json": {
       "model_id": "539b8ad826ac4284b253069b3ab462b3",
       "version_major": 2,
       "version_minor": 0
      },
      "text/plain": [
       "interactive(children=(IntSlider(value=0, description='kx', max=63, min=-64), IntSlider(value=0, description='k…"
      ]
     },
     "metadata": {},
     "output_type": "display_data"
    },
    {
     "data": {
      "text/plain": [
       "<function __main__.f_plot_spec_iteration(arr, kx, ky)>"
      ]
     },
     "execution_count": 13,
     "metadata": {},
     "output_type": "execute_result"
    }
   ],
   "source": [
    "def f_plot_spec_iteration(arr,kx,ky):\n",
    "    L=arr.shape[-1]\n",
    "    id_x,id_y=kx+L//2,ky+L//2\n",
    "    # print(arr[1:,id_x,id_y])\n",
    "    plt.figure()\n",
    "    plt.plot(arr[1:,id_x,id_y]/np.max(arr[1:,id_x,id_y]),marker='o',linestyle='')\n",
    "    plt.xlabel('Iteration')\n",
    "    plt.yscale('log')\n",
    "    plt.show()\n",
    "# f_plot_spec_iteration(aspec_lst[0],0,0)\n",
    "\n",
    "kmax=aspec_lst[0].shape[1]//2\n",
    "interact(f_plot_spec_iteration,arr=fixed(aspec_lst[0]),kx=IntSlider(min=-kmax,max=kmax-1,step=1),ky=IntSlider(min=-kmax,max=kmax-1,step=1))\n"
   ]
  },
  {
   "cell_type": "markdown",
   "id": "3a9a315f-153e-4724-bde4-a6ae0848e0de",
   "metadata": {},
   "source": [
    "error = (phi - solution) \\\n",
    "FFT of $ error[x,y] \\rightarrow error[kx,ky] $ \\\n",
    "Plotting : $$ \\frac{\\mbox{error}[iter, kx, ky]}{max(\\mbox{error}[iter,kx,ky])} $$ "
   ]
  },
  {
   "cell_type": "code",
   "execution_count": 14,
   "id": "a616ac0d-74b0-475d-9050-7da7073378e1",
   "metadata": {
    "tags": []
   },
   "outputs": [
    {
     "name": "stdout",
     "output_type": "stream",
     "text": [
      "(124, 128, 128)\n"
     ]
    },
    {
     "data": {
      "application/vnd.jupyter.widget-view+json": {
       "model_id": "788d37577eb04f1d89d1120ba44faa50",
       "version_major": 2,
       "version_minor": 0
      },
      "image/png": "[encoded data removed]",
      "text/plain": [
       "Canvas(toolbar=Toolbar(toolitems=[('Home', 'Reset original view', 'home', 'home'), ('Back', 'Back to previous …"
      ]
     },
     "metadata": {},
     "output_type": "display_data"
    }
   ],
   "source": [
    "def f_grid_iter_plot(arr,klist):\n",
    "    \n",
    "    fig=plt.figure()\n",
    "\n",
    "    size=len(klist)\n",
    "    cols=max(size//2,1)\n",
    "    cols=min(cols,4)\n",
    "    rows=int(np.ceil(size/cols))\n",
    "    # rows,cols=2,2\n",
    "    \n",
    "    L=arr.shape[-1]\n",
    "    print(arr.shape)\n",
    "    # arr=arr[:]/np.max(arr)\n",
    "    for count,k in enumerate(klist):\n",
    "        kx,ky=k[0],k[1]\n",
    "        id_x,id_y=kx+L//2,ky+L//2\n",
    "        # fig.add_subplot(rows,cols,count+1)\n",
    "        # plt.plot(arr[1:,id_x,id_y], marker='*',markersize=4,linestyle='',label=\"k=\"+str(k))\n",
    "        plt.plot(arr[1:,id_x,id_y]/np.max(arr[1:,id_x,id_y]), marker='*',markersize=4,linestyle='',label=\"k=\"+str(k))\n",
    "        plt.legend()\n",
    "        plt.yscale('log')\n",
    "    plt.show()\n",
    "\n",
    "klist=[(0,0),(0,1),(1,1),(2,2),(5,5),(10,10),(15,15)]\n",
    "f_grid_iter_plot(aspec_lst[0][:5000],klist)\n"
   ]
  },
  {
   "cell_type": "markdown",
   "id": "8d53aac0-caa0-4a1d-8e61-33ea50d3b2ea",
   "metadata": {},
   "source": [
    "Slopes: \n",
    "\n",
    "0 : (1-0.56)/600 : 0.0008\n",
    "1 : (1-5e-6)/600 : 0.002\n",
    "2 : (1-3e-4)/200 : 0.005\n",
    "3 : (1-1e-5)/75 :  0.013\n",
    "4 : (1-6e-6)/10  : 0.1"
   ]
  },
  {
   "cell_type": "markdown",
   "id": "840a0512-572a-4689-9ff9-61ed59ea57dc",
   "metadata": {
    "tags": []
   },
   "source": [
    "### Compare different runs"
   ]
  },
  {
   "cell_type": "code",
   "execution_count": 15,
   "id": "6dc9a60b-7cb6-4e30-bf11-5ee0d1fb25f6",
   "metadata": {},
   "outputs": [
    {
     "ename": "NameError",
     "evalue": "name 'labels_lst' is not defined",
     "output_type": "error",
     "traceback": [
      "\u001b[0;31m---------------------------------------------------------------------------\u001b[0m",
      "\u001b[0;31mNameError\u001b[0m                                 Traceback (most recent call last)",
      "\u001b[0;32m/var/folders/h9/cwkrp27n277dc6nk95nhr9bm0000gn/T/ipykernel_27746/614058804.py\u001b[0m in \u001b[0;36m<module>\u001b[0;34m\u001b[0m\n\u001b[1;32m     15\u001b[0m     \u001b[0mplt\u001b[0m\u001b[0;34m.\u001b[0m\u001b[0mshow\u001b[0m\u001b[0;34m(\u001b[0m\u001b[0;34m)\u001b[0m\u001b[0;34m\u001b[0m\u001b[0;34m\u001b[0m\u001b[0m\n\u001b[1;32m     16\u001b[0m \u001b[0;34m\u001b[0m\u001b[0m\n\u001b[0;32m---> 17\u001b[0;31m \u001b[0mf_plot_mean_err\u001b[0m\u001b[0;34m(\u001b[0m\u001b[0merr_lst\u001b[0m\u001b[0;34m[\u001b[0m\u001b[0;34m:\u001b[0m\u001b[0;36m5\u001b[0m\u001b[0;34m]\u001b[0m\u001b[0;34m,\u001b[0m\u001b[0mlabels_lst\u001b[0m\u001b[0;34m[\u001b[0m\u001b[0;34m:\u001b[0m\u001b[0;36m5\u001b[0m\u001b[0;34m]\u001b[0m\u001b[0;34m)\u001b[0m\u001b[0;34m\u001b[0m\u001b[0;34m\u001b[0m\u001b[0m\n\u001b[0m",
      "\u001b[0;31mNameError\u001b[0m: name 'labels_lst' is not defined"
     ]
    }
   ],
   "source": [
    "# Plot mean absolute error\n",
    "def f_plot_mean_err(arrlist,labellist):\n",
    "    fig=plt.figure()\n",
    "        \n",
    "    mrkrs=['o','*','v','x','D','H','s','8','p']\n",
    "    for count,(lbl,mrkr) in enumerate(zip(labellist,mrkrs)):\n",
    "        arr=arrlist[count]\n",
    "        ans=np.mean(arr,axis=(1,2))\n",
    "        plt.plot(ans, marker=mrkr,markersize=5,linestyle='',label=lbl)\n",
    "        \n",
    "        plt.legend()\n",
    "    plt.yscale('log')\n",
    "    plt.title('Mean of error')\n",
    "    plt.xlabel('Iterations on top level / 3')\n",
    "    plt.show()\n",
    "\n",
    "f_plot_mean_err(err_lst[:5],labels_lst[:5])"
   ]
  },
  {
   "cell_type": "code",
   "execution_count": 16,
   "id": "340acf55-0d41-489d-a563-dc5694d7b19b",
   "metadata": {
    "tags": []
   },
   "outputs": [],
   "source": [
    "# Plot Spectral coefficients\n",
    "def f_compare_runs(arrlist,labellist,kx,ky):\n",
    "    fig=plt.figure()\n",
    "\n",
    "    size=len(labellist)\n",
    "    cols=max(size//2,1)\n",
    "    cols=min(cols,4)\n",
    "    rows=int(np.ceil(size/cols))\n",
    "    # rows,cols=2,2\n",
    "    \n",
    "    L=arr.shape[-1]\n",
    "    id_x,id_y=kx+L//2,ky+L//2\n",
    "        \n",
    "    mrkrs=['o','*','v','x','D','H','s','8','p']\n",
    "    for count,(lbl,mrkr) in enumerate(zip(labellist,mrkrs)):\n",
    "        a_spec=arrlist[count]\n",
    "        # fig.add_subplot(rows,cols,count+1)\n",
    "        plt.plot(a_spec[1:,id_x,id_y], marker=mrkr,markersize=5,linestyle='',label=lbl)\n",
    "\n",
    "        plt.legend()\n",
    "    plt.yscale('log')\n",
    "    plt.title('Fourier coefficient of Error for kx=%s, ky=%s'%(kx,ky))\n",
    "    plt.xlabel('Iterations on top level / 3')\n",
    "    plt.show()\n",
    "    \n",
    "# f_compare_runs(aspec_lst[:],labels_lst[:],2,0)"
   ]
  },
  {
   "cell_type": "code",
   "execution_count": 44,
   "id": "af79ab99-c10f-41d0-aef3-eb4bf76927ae",
   "metadata": {},
   "outputs": [
    {
     "data": {
      "application/vnd.jupyter.widget-view+json": {
       "model_id": "ba39708182a748d199194dacd7045e1e",
       "version_major": 2,
       "version_minor": 0
      },
      "text/plain": [
       "interactive(children=(IntSlider(value=0, description='kx', max=15, min=-16), IntSlider(value=0, description='k…"
      ]
     },
     "metadata": {},
     "output_type": "display_data"
    },
    {
     "data": {
      "text/plain": [
       "<function __main__.f_compare_runs(arrlist, labellist, kx, ky)>"
      ]
     },
     "execution_count": 44,
     "metadata": {},
     "output_type": "execute_result"
    }
   ],
   "source": [
    "kmax=arr_lst[0].shape[-1]//2\n",
    "\n",
    "interact(f_compare_runs,arrlist=fixed(aspec_lst[:5]),labellist=fixed(labels_lst[:5]),kx=IntSlider(min=-kmax,max=kmax-1,step=1),ky=IntSlider(min=-kmax,max=kmax-1,step=1))\n"
   ]
  },
  {
   "cell_type": "markdown",
   "id": "e98fa6c6-7e7a-405d-af34-105ab668e910",
   "metadata": {},
   "source": [
    "## Plot convergence speed"
   ]
  },
  {
   "cell_type": "code",
   "execution_count": 17,
   "id": "f2bd3ba7-3b34-4b6f-90e9-ec26b2a7d6f9",
   "metadata": {},
   "outputs": [
    {
     "ename": "NameError",
     "evalue": "name 'labels_lst' is not defined",
     "output_type": "error",
     "traceback": [
      "\u001b[0;31m---------------------------------------------------------------------------\u001b[0m",
      "\u001b[0;31mNameError\u001b[0m                                 Traceback (most recent call last)",
      "\u001b[0;32m/var/folders/h9/cwkrp27n277dc6nk95nhr9bm0000gn/T/ipykernel_27746/1366721787.py\u001b[0m in \u001b[0;36m<module>\u001b[0;34m\u001b[0m\n\u001b[0;32m----> 1\u001b[0;31m \u001b[0mlabels_lst\u001b[0m\u001b[0;34m\u001b[0m\u001b[0;34m\u001b[0m\u001b[0m\n\u001b[0m\u001b[1;32m      2\u001b[0m \u001b[0mmax_itrs_lst\u001b[0m\u001b[0;34m=\u001b[0m\u001b[0;34m[\u001b[0m\u001b[0mi\u001b[0m\u001b[0;34m.\u001b[0m\u001b[0mshape\u001b[0m\u001b[0;34m[\u001b[0m\u001b[0;36m0\u001b[0m\u001b[0;34m]\u001b[0m \u001b[0;32mfor\u001b[0m \u001b[0mi\u001b[0m \u001b[0;32min\u001b[0m \u001b[0merr_lst\u001b[0m\u001b[0;34m]\u001b[0m\u001b[0;34m\u001b[0m\u001b[0;34m\u001b[0m\u001b[0m\n\u001b[1;32m      3\u001b[0m \u001b[0;34m\u001b[0m\u001b[0m\n\u001b[1;32m      4\u001b[0m \u001b[0mplt\u001b[0m\u001b[0;34m.\u001b[0m\u001b[0mfigure\u001b[0m\u001b[0;34m(\u001b[0m\u001b[0mfigsize\u001b[0m\u001b[0;34m=\u001b[0m\u001b[0;34m(\u001b[0m\u001b[0;36m8\u001b[0m\u001b[0;34m,\u001b[0m\u001b[0;36m5\u001b[0m\u001b[0;34m)\u001b[0m\u001b[0;34m)\u001b[0m\u001b[0;34m\u001b[0m\u001b[0;34m\u001b[0m\u001b[0m\n\u001b[1;32m      5\u001b[0m \u001b[0mplt\u001b[0m\u001b[0;34m.\u001b[0m\u001b[0mplot\u001b[0m\u001b[0;34m(\u001b[0m\u001b[0mlabels_lst\u001b[0m\u001b[0;34m,\u001b[0m\u001b[0mmax_itrs_lst\u001b[0m\u001b[0;34m,\u001b[0m\u001b[0mmarker\u001b[0m\u001b[0;34m=\u001b[0m\u001b[0;34m'*'\u001b[0m\u001b[0;34m,\u001b[0m\u001b[0mlinestyle\u001b[0m\u001b[0;34m=\u001b[0m\u001b[0;34m''\u001b[0m\u001b[0;34m)\u001b[0m\u001b[0;34m\u001b[0m\u001b[0;34m\u001b[0m\u001b[0m\n",
      "\u001b[0;31mNameError\u001b[0m: name 'labels_lst' is not defined"
     ]
    }
   ],
   "source": [
    "labels_lst\n",
    "max_itrs_lst=[i.shape[0] for i in err_lst]\n",
    "\n",
    "plt.figure(figsize=(8,5))\n",
    "plt.plot(labels_lst,max_itrs_lst,marker='*',linestyle='')\n",
    "plt.ylabel(\"Iterations per leve\")\n",
    "plt.xlabel(\"Run type\")"
   ]
  },
  {
   "cell_type": "code",
   "execution_count": 46,
   "id": "1a6a5332-afdd-43e6-a3cf-b1ac55ad66c1",
   "metadata": {
    "tags": []
   },
   "outputs": [],
   "source": [
    "# for i in range(err_lst[1].shape[0])[:5]:\n",
    "#     if not np.allclose(err_lst[1][i],err_lst[2][i]):\n",
    "#         for x in range(L):\n",
    "#             for y in range(L):\n",
    "#                 if ((err_lst[1][i][x,y]-err_lst[2][i][x,y])> 1e-10):\n",
    "#                     print(err_lst[1][i][x,y]-err_lst[2][i][x,y])\n"
   ]
  },
  {
   "cell_type": "code",
   "execution_count": null,
   "id": "14cf4d15-9afb-4e9a-b377-1f79286e2e5d",
   "metadata": {},
   "outputs": [],
   "source": []
  }
 ],
 "metadata": {
  "kernelspec": {
   "display_name": "v3",
   "language": "python",
   "name": "vpy39"
  },
  "language_info": {
   "codemirror_mode": {
    "name": "ipython",
    "version": 3
   },
   "file_extension": ".py",
   "mimetype": "text/x-python",
   "name": "python",
   "nbconvert_exporter": "python",
   "pygments_lexer": "ipython3",
   "version": "3.9.7"
  }
 },
 "nbformat": 4,
 "nbformat_minor": 5
}
